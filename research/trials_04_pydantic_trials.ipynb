{
 "cells": [
  {
   "cell_type": "code",
   "execution_count": 1,
   "metadata": {},
   "outputs": [
    {
     "data": {
      "text/plain": [
       "'c:\\\\Deepankar Sharma\\\\Warewe_Stuffs\\\\Scraping_Blog_Project'"
      ]
     },
     "execution_count": 1,
     "metadata": {},
     "output_type": "execute_result"
    }
   ],
   "source": [
    "import os; os.chdir('..')\n",
    "from dotenv import load_dotenv\n",
    "%pwd"
   ]
  },
  {
   "cell_type": "code",
   "execution_count": 2,
   "metadata": {},
   "outputs": [],
   "source": [
    "from scripts import list_products"
   ]
  },
  {
   "cell_type": "code",
   "execution_count": 3,
   "metadata": {},
   "outputs": [
    {
     "name": "stdout",
     "output_type": "stream",
     "text": [
      "find the products related to `best headphones` from the following text: \n",
      "```\n",
      "### Best Headphones for Everyday Use\n",
      "\n",
      "When it comes to finding the perfect headphones for daily use, there are several factors to consider, including comfort, sound quality, and durability. Here are some of the top recommendations:\n",
      "\n",
      "1. **TREBLAB Z7 Pro Headphones**: Known for their exceptional sound quality and comfort, these headphones are ideal for both indoor and outdoor use. They are durable and provide excellent value for their price.\n",
      "\n",
      "2. **Bowers & Wilkins Px7 S2e Headphones**: These headphones offer improved digital processing, making them a great option for those seeking high-quality sound. They are also more comfortable than their predecessors and have a luxurious design.\n",
      "\n",
      "3. **Sony WH-1000XM4 Headphones**: These headphones are highly praised for their noise cancellation and sound quality. They are a great option for those looking for a premium listening experience.\n",
      "\n",
      "4. **Beyerdynamic DT 1990 Pro Headphones**: These headphones are highly recommended for their comfort and sound quality. They are a great choice for those who want to wear them for extended periods.\n",
      "\n",
      "5. **Philips SHP9600/9500 Headphones**: These headphones are known for their comfort and affordability. They are a great option for those who want a reliable pair without breaking the bank.\n",
      "\n",
      "6. **Sony MDR-7506 Headphones**: These headphones are a sound booth staple, offering high-fidelity sound at an affordable price.\n",
      "\n",
      "7. **HyperX Cloud Stinger 2 Gaming Headset**: This gaming headset is praised for its comfort, sound quality, and microphone performance, making it a great option for gamers.\n",
      "\n",
      "8. **JBL Reflect Aero TWS Earbuds**: These earbuds are perfect for the gym, offering a secure fit, simple controls, and a waterproof design.\n",
      "\n",
      "These headphones cater to various needs and budgets, ensuring that you can find the perfect pair for your daily use.\n",
      "\n",
      "### Key Features to Consider\n",
      "\n",
      "- **Comfort**: Look for headphones with cushioning and adjustable headbands for a comfortable fit.\n",
      "- **Sound Quality**: Consider headphones with clear and balanced sound, suitable for your preferred music genres.\n",
      "- **Durability**: Choose headphones with durable materials and a sturdy build to ensure they last long.\n",
      "- **Noise Cancellation**: If you want to block out background noise, opt for headphones with active noise cancellation.\n",
      "- **Budget**: Set a budget and look for headphones that meet your needs within that range.\n",
      "\n",
      "### Additional Resources\n",
      "\n",
      "- **Best Buy**: For a wide selection of headphones from various brands, visit Best Buy's website.\n",
      "- **TechRadar**: For in-depth reviews and comparisons of different headphones, check out TechRadar's articles.\n",
      "- **CNET**: CNET provides extensive reviews and recommendations for headphones, including budget-friendly options.\n",
      "- **Wirecutter**: Wirecutter offers detailed guides and recommendations for headphones in various categories.\n",
      "\n",
      "By considering these factors and exploring the recommended headphones, you can find the perfect pair for your everyday use.\n",
      "```\n"
     ]
    },
    {
     "data": {
      "text/plain": [
       "'TREBLAB Z7 Pro Headphones, Bowers & Wilkins Px7 S2e Headphones, Sony WH-1000XM4 Headphones, Beyerdynamic DT 1990 Pro Headphones, Philips SHP9600/9500 Headphones, Sony MDR-7506 Headphones, HyperX Cloud Stinger 2 Gaming Headset, JBL Reflect Aero TWS Earbuds'"
      ]
     },
     "execution_count": 3,
     "metadata": {},
     "output_type": "execute_result"
    }
   ],
   "source": [
    "list_products(\"best headphones\")"
   ]
  },
  {
   "cell_type": "code",
   "execution_count": 2,
   "metadata": {},
   "outputs": [
    {
     "data": {
      "text/plain": [
       "True"
      ]
     },
     "execution_count": 2,
     "metadata": {},
     "output_type": "execute_result"
    }
   ],
   "source": [
    "load_dotenv()"
   ]
  },
  {
   "cell_type": "code",
   "execution_count": 3,
   "metadata": {},
   "outputs": [],
   "source": [
    "import openai\n",
    "from pydantic import BaseModel, Field"
   ]
  },
  {
   "cell_type": "code",
   "execution_count": 4,
   "metadata": {},
   "outputs": [],
   "source": [
    "from langchain_openai import ChatOpenAI\n",
    "\n",
    "llm = ChatOpenAI(model=\"gpt-3.5-turbo-0125\")"
   ]
  },
  {
   "cell_type": "code",
   "execution_count": 5,
   "metadata": {},
   "outputs": [],
   "source": [
    "from typing import Optional\n",
    "\n",
    "from langchain_core.pydantic_v1 import BaseModel, Field\n",
    "\n",
    "\n",
    "class Products(BaseModel):\n",
    "    products: Optional[str] = Field(description=\"A list of relevant products.\")\n",
    "\n"
   ]
  },
  {
   "cell_type": "code",
   "execution_count": 6,
   "metadata": {},
   "outputs": [],
   "source": [
    "from scripts import research_blog"
   ]
  },
  {
   "cell_type": "code",
   "execution_count": 7,
   "metadata": {},
   "outputs": [
    {
     "data": {
      "text/plain": [
       "openai.types.chat.chat_completion.ChatCompletion"
      ]
     },
     "execution_count": 7,
     "metadata": {},
     "output_type": "execute_result"
    }
   ],
   "source": [
    "response= research_blog(\"Best Headphones\")\n",
    "type(response)"
   ]
  },
  {
   "cell_type": "code",
   "execution_count": 8,
   "metadata": {},
   "outputs": [],
   "source": [
    "structured_llm = llm.with_structured_output(Products)\n"
   ]
  },
  {
   "cell_type": "code",
   "execution_count": 11,
   "metadata": {},
   "outputs": [],
   "source": [
    "prompt= response.choices[0].message.content"
   ]
  },
  {
   "cell_type": "code",
   "execution_count": 12,
   "metadata": {},
   "outputs": [
    {
     "data": {
      "text/plain": [
       "Products(products='Bose QuietComfort Ultra Headphones Wireless, Sony WH-1000XM5, Sony WF-1000XM5 Truly Wireless, Apple AirPods Pro (2nd generation) Truly Wireless, Sony WH-CH520, Bowers & Wilkins PX8, TREBLAB Z7 Pro, Philips SHP9600/9500, Bowers & Wilkins PX7 S2e')"
      ]
     },
     "execution_count": 12,
     "metadata": {},
     "output_type": "execute_result"
    }
   ],
   "source": [
    "structured_llm.invoke(prompt)"
   ]
  },
  {
   "cell_type": "code",
   "execution_count": null,
   "metadata": {},
   "outputs": [],
   "source": []
  },
  {
   "cell_type": "code",
   "execution_count": null,
   "metadata": {},
   "outputs": [],
   "source": [
    "class Blog(BaseModel):\n",
    "    title: str # title of the blog\n",
    "    intro: str # intro of the blog\n",
    "    conclusion: # conclusion of the blog \n",
    "    "
   ]
  },
  {
   "cell_type": "code",
   "execution_count": null,
   "metadata": {},
   "outputs": [],
   "source": [
    "import streamlit as st\n",
    "import openai\n",
    "from pydantic import BaseModel, Field\n",
    "from typing import List, Optional\n",
    "\n",
    "# Initialize the OpenAI client\n",
    "\n",
    "# Define Pydantic models\n",
    "class ChoiceDelta(BaseModel):\n",
    "    content: str\n",
    "\n",
    "class Choice(BaseModel):\n",
    "    delta: ChoiceDelta\n",
    "\n",
    "class OpenAIResponse(BaseModel):\n",
    "    choices: List[Choice]\n",
    "\n",
    "def create_streaming_blog(keyword):\n",
    "    messages = [\n",
    "        {\"role\": \"system\", \"content\": \"You are a helpful assistant.\"},\n",
    "        {\"role\": \"user\", \"content\": f\"Write a blog about {keyword}.\"}\n",
    "    ]\n",
    "\n",
    "    response_stream = openai.ChatCompletion.create(\n",
    "        model=\"gpt-4\",\n",
    "        messages=messages,\n",
    "        stream=True,\n",
    "    )\n",
    "    return response_stream\n",
    "\n",
    "# Streamlit app layout\n",
    "st.title(\"Streaming Blog Writer\")\n",
    "\n",
    "# Sidebar with input and button\n",
    "st.sidebar.header(\"Blog Settings\")\n",
    "keyword = st.sidebar.text_input(\"Keyword\", \"\")\n",
    "write_blog_button = st.sidebar.button(\"Write Blog\")\n",
    "\n",
    "# Placeholder for the blog content\n",
    "placeholder = st.empty()\n",
    "\n",
    "# Generate and display blog if button is clicked\n",
    "if write_blog_button and keyword:\n",
    "    response_stream = create_streaming_blog(keyword)\n",
    "    full_response = \"\"\n",
    "\n",
    "    # Iterate through the response stream\n",
    "    for response in response_stream:\n",
    "        # Parse the response using Pydantic model\n",
    "        parsed_response = OpenAIResponse(**response)\n",
    "        # Append the new content to the full response\n",
    "        full_response += parsed_response.choices[0].delta.content\n",
    "        # Update the placeholder with the accumulated response\n",
    "        placeholder.markdown(full_response)\n"
   ]
  },
  {
   "cell_type": "code",
   "execution_count": 15,
   "metadata": {},
   "outputs": [],
   "source": [
    "\n",
    "class Products(BaseModel):\n",
    "    products: Optional[str] = Field(description=\"A list of relevant products.\")\n",
    "\n",
    "structured_llm = llm.with_structured_output(Products)\n",
    "\n",
    "def list_products(topic):\n",
    "    \"\"\"list all the products available\"\"\"\n",
    "    try:\n",
    "        response= research_blog(topic)\n",
    "        prompt= response.choices[0].message.content\n",
    "        product= structured_llm.invoke(prompt)\n",
    "        return product.products\n",
    "        \n",
    "    except Exception as e:\n",
    "        print(e)\n",
    "        return None\n",
    "    "
   ]
  },
  {
   "cell_type": "code",
   "execution_count": 16,
   "metadata": {},
   "outputs": [
    {
     "data": {
      "text/plain": [
       "'Shovels, Rakes, Tampers, Garden Hoes, Post Hole Diggers, Weeders, Pruning Shears, Loppers'"
      ]
     },
     "execution_count": 16,
     "metadata": {},
     "output_type": "execute_result"
    }
   ],
   "source": [
    "list_products(\"garden tools\")"
   ]
  },
  {
   "cell_type": "code",
   "execution_count": null,
   "metadata": {},
   "outputs": [],
   "source": []
  }
 ],
 "metadata": {
  "kernelspec": {
   "display_name": "venv",
   "language": "python",
   "name": "python3"
  },
  "language_info": {
   "codemirror_mode": {
    "name": "ipython",
    "version": 3
   },
   "file_extension": ".py",
   "mimetype": "text/x-python",
   "name": "python",
   "nbconvert_exporter": "python",
   "pygments_lexer": "ipython3",
   "version": "3.11.9"
  }
 },
 "nbformat": 4,
 "nbformat_minor": 2
}
