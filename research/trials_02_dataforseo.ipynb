{
 "cells": [
  {
   "cell_type": "code",
   "execution_count": 1,
   "metadata": {},
   "outputs": [
    {
     "data": {
      "text/plain": [
       "'c:\\\\Deepankar Sharma\\\\Warewe_Stuffs\\\\Scraping_Blog_Project'"
      ]
     },
     "execution_count": 1,
     "metadata": {},
     "output_type": "execute_result"
    }
   ],
   "source": [
    "import os; os.chdir('..')\n",
    "%pwd"
   ]
  },
  {
   "cell_type": "code",
   "execution_count": 2,
   "metadata": {},
   "outputs": [],
   "source": [
    "from scripts import client"
   ]
  },
  {
   "cell_type": "code",
   "execution_count": 13,
   "metadata": {},
   "outputs": [],
   "source": [
    "trends_api_path= \"/v3/serp/google/organic/live/regular\"\n",
    "# trends_api_path= \"/v3/keywords_data/google_trends/explore/live\"\n",
    "keyword= \"best headphones\""
   ]
  },
  {
   "cell_type": "code",
   "execution_count": 22,
   "metadata": {},
   "outputs": [
    {
     "data": {
      "text/plain": [
       "{0: {'language_code': 'en',\n",
       "  'location_code': 2840,\n",
       "  'keyword': ['best headphones']}}"
      ]
     },
     "execution_count": 22,
     "metadata": {},
     "output_type": "execute_result"
    }
   ],
   "source": [
    "post_data= dict()\n",
    "# post_data[len(post_data)] = dict(\n",
    "#     location_name=\"United States\",\n",
    "#     date_from=\"2019-01-01\",\n",
    "#     date_to=\"2020-01-01\",\n",
    "#     type=\"youtube\",\n",
    "#     category_code=3,\n",
    "#     keywords=[\n",
    "#         \"best headphones\",\n",
    "#         \"headphones\"\n",
    "#     ]\n",
    "# )\n",
    "\n",
    "\n",
    "# for google serp live\n",
    "post_data[len(post_data)] = dict(\n",
    "        language_code=\"en\",\n",
    "        location_code=2840,\n",
    "        keyword=[keyword]\n",
    "    )\n",
    "    \n",
    "\n",
    "post_data"
   ]
  },
  {
   "cell_type": "code",
   "execution_count": 23,
   "metadata": {},
   "outputs": [],
   "source": [
    "response= client.post(\n",
    "    path=trends_api_path,\n",
    "    data= post_data\n",
    ")"
   ]
  },
  {
   "cell_type": "code",
   "execution_count": 24,
   "metadata": {},
   "outputs": [
    {
     "data": {
      "text/plain": [
       "20000"
      ]
     },
     "execution_count": 24,
     "metadata": {},
     "output_type": "execute_result"
    }
   ],
   "source": [
    "response[\"status_code\"]"
   ]
  },
  {
   "cell_type": "code",
   "execution_count": 26,
   "metadata": {},
   "outputs": [
    {
     "data": {
      "text/plain": [
       "dict_keys(['version', 'status_code', 'status_message', 'time', 'cost', 'tasks_count', 'tasks_error', 'tasks'])"
      ]
     },
     "execution_count": 26,
     "metadata": {},
     "output_type": "execute_result"
    }
   ],
   "source": [
    "response.keys()"
   ]
  },
  {
   "cell_type": "code",
   "execution_count": 98,
   "metadata": {},
   "outputs": [
    {
     "data": {
      "text/plain": [
       "20000"
      ]
     },
     "execution_count": 98,
     "metadata": {},
     "output_type": "execute_result"
    }
   ],
   "source": [
    "post_data = dict()\n",
    "# simple way to set a task\n",
    "post_data[len(post_data)] = dict(\n",
    "    location_name=\"United States\",\n",
    "    date_from=\"2019-01-01\",\n",
    "    date_to=\"2024-06-06\",\n",
    "    # type=\"web\",\n",
    "    # category_code=3,\n",
    "    keywords=[\n",
    "        \"best headphones\",\n",
    "    ],\n",
    "    item_types= [\n",
    "        # \"google_trends_graph\",\n",
    "        # \"google_trends_map\",\n",
    "        \"google_trends_topics_list\",\n",
    "        # \"google_trends_queries_list\"\n",
    "    ]\n",
    ")\n",
    "# POST /v3/keywords_data/google_trends/explore/live\n",
    "# the full list of possible parameters is available in documentation\n",
    "response = client.post(\"/v3/keywords_data/google_trends/explore/live\", post_data)\n",
    "response['status_code']"
   ]
  },
  {
   "cell_type": "code",
   "execution_count": 100,
   "metadata": {},
   "outputs": [],
   "source": [
    "import json\n",
    "\n",
    "\n",
    "with open(\"research/trends_api_results.json\", \"w\") as f:\n",
    "    json.dump(response, f)"
   ]
  },
  {
   "cell_type": "code",
   "execution_count": 66,
   "metadata": {},
   "outputs": [
    {
     "data": {
      "text/plain": [
       "dict_keys(['version', 'status_code', 'status_message', 'time', 'cost', 'tasks_count', 'tasks_error', 'tasks'])"
      ]
     },
     "execution_count": 66,
     "metadata": {},
     "output_type": "execute_result"
    }
   ],
   "source": [
    "response.keys()"
   ]
  },
  {
   "cell_type": "code",
   "execution_count": 67,
   "metadata": {},
   "outputs": [
    {
     "name": "stdout",
     "output_type": "stream",
     "text": [
      "[{'id': '06060908-6493-0173-0000-9150352419ec', 'status_code': 20000, 'status_message': 'Ok.', 'time': '9.0346 sec.', 'cost': 0.009, 'result_count': 1, 'path': ['v3', 'keywords_data', 'google_trends', 'explore', 'live'], 'data': {'api': 'keywords_data', 'function': 'explore', 'se': 'google_trends', 'location_name': 'United States', 'date_from': '2019-01-01', 'date_to': '2024-06-06', 'keywords': ['best headphones'], 'item_types': ['google_trends_queries_list']}, 'result': [{'keywords': ['best headphones'], 'type': 'trends', 'location_code': 2840, 'language_code': 'en', 'check_url': 'https://trends.google.com/trends/explore?hl=en&geo=US&date=2019-01-01%202024-06-06&q=best%20headphones', 'datetime': '2024-06-06 06:09:07 +00:00', 'items_count': 1, 'items': [{'position': 1, 'type': 'google_trends_queries_list', 'title': None, 'keywords': ['best headphones'], 'data': {'top': [{'query': 'headphones wireless', 'value': 100}, {'query': 'best headphones wireless', 'value': 99}, {'query': 'best buy headphones', 'value': 65}, {'query': 'best buy', 'value': 64}, {'query': 'bluetooth headphones', 'value': 52}, {'query': 'best noise cancelling headphones', 'value': 51}, {'query': 'best bluetooth headphones', 'value': 50}, {'query': 'noise cancelling headphones', 'value': 50}, {'query': 'the best headphones', 'value': 49}, {'query': 'best earbuds', 'value': 37}, {'query': 'earbuds', 'value': 36}, {'query': 'over ear headphones', 'value': 35}, {'query': 'best over ear headphones', 'value': 35}, {'query': 'best beats headphones', 'value': 34}, {'query': 'beats', 'value': 34}, {'query': 'bose headphones', 'value': 32}, {'query': 'beats headphones', 'value': 32}, {'query': 'best bose headphones', 'value': 31}, {'query': 'bose', 'value': 31}, {'query': 'sony', 'value': 30}, {'query': 'best sony headphones', 'value': 30}, {'query': 'sony headphones', 'value': 30}, {'query': 'best gaming headphones', 'value': 27}, {'query': 'gaming headphones', 'value': 27}, {'query': 'apple headphones', 'value': 18}], 'rising': [{'query': 'best headphones 2022', 'value': 156350}, {'query': 'best headphones 2021', 'value': 115450}, {'query': 'best headphones 2023', 'value': 91800}, {'query': 'sony wh-1000xm4', 'value': 77600}, {'query': 'sony headphones wh-1000xm4', 'value': 76700}, {'query': 'airpod max', 'value': 33000}, {'query': 'sony wh-1000xm5', 'value': 32650}, {'query': 'sony xm4', 'value': 31650}, {'query': 'best headphones 2020', 'value': 26050}, {'query': 'best wireless headphones 2023', 'value': 25850}, {'query': 'sony xm5', 'value': 22500}, {'query': 'best noise cancelling headphones 2023', 'value': 19700}, {'query': 'airpods max', 'value': 18650}, {'query': 'best earbuds 2023', 'value': 18450}, {'query': 'best headphones 2024', 'value': 16700}, {'query': 'jabra elite 75t', 'value': 15750}, {'query': 'sony wf-1000xm3', 'value': 12050}, {'query': 'skullcandy crusher evo', 'value': 11550}, {'query': 'best headphones for ps5', 'value': 11200}, {'query': 'best headphones for zoom meetings', 'value': 10500}, {'query': 'airpod pro', 'value': 9100}, {'query': 'apple airpods max', 'value': 8150}, {'query': 'bose noise cancelling headphones 700', 'value': 8050}, {'query': 'audiotechnica open ear headphones', 'value': 7550}, {'query': 'airpods pro', 'value': 7450}]}}]}]}]\n",
      "[{'keywords': ['best headphones'], 'type': 'trends', 'location_code': 2840, 'language_code': 'en', 'check_url': 'https://trends.google.com/trends/explore?hl=en&geo=US&date=2019-01-01%202024-06-06&q=best%20headphones', 'datetime': '2024-06-06 06:09:07 +00:00', 'items_count': 1, 'items': [{'position': 1, 'type': 'google_trends_queries_list', 'title': None, 'keywords': ['best headphones'], 'data': {'top': [{'query': 'headphones wireless', 'value': 100}, {'query': 'best headphones wireless', 'value': 99}, {'query': 'best buy headphones', 'value': 65}, {'query': 'best buy', 'value': 64}, {'query': 'bluetooth headphones', 'value': 52}, {'query': 'best noise cancelling headphones', 'value': 51}, {'query': 'best bluetooth headphones', 'value': 50}, {'query': 'noise cancelling headphones', 'value': 50}, {'query': 'the best headphones', 'value': 49}, {'query': 'best earbuds', 'value': 37}, {'query': 'earbuds', 'value': 36}, {'query': 'over ear headphones', 'value': 35}, {'query': 'best over ear headphones', 'value': 35}, {'query': 'best beats headphones', 'value': 34}, {'query': 'beats', 'value': 34}, {'query': 'bose headphones', 'value': 32}, {'query': 'beats headphones', 'value': 32}, {'query': 'best bose headphones', 'value': 31}, {'query': 'bose', 'value': 31}, {'query': 'sony', 'value': 30}, {'query': 'best sony headphones', 'value': 30}, {'query': 'sony headphones', 'value': 30}, {'query': 'best gaming headphones', 'value': 27}, {'query': 'gaming headphones', 'value': 27}, {'query': 'apple headphones', 'value': 18}], 'rising': [{'query': 'best headphones 2022', 'value': 156350}, {'query': 'best headphones 2021', 'value': 115450}, {'query': 'best headphones 2023', 'value': 91800}, {'query': 'sony wh-1000xm4', 'value': 77600}, {'query': 'sony headphones wh-1000xm4', 'value': 76700}, {'query': 'airpod max', 'value': 33000}, {'query': 'sony wh-1000xm5', 'value': 32650}, {'query': 'sony xm4', 'value': 31650}, {'query': 'best headphones 2020', 'value': 26050}, {'query': 'best wireless headphones 2023', 'value': 25850}, {'query': 'sony xm5', 'value': 22500}, {'query': 'best noise cancelling headphones 2023', 'value': 19700}, {'query': 'airpods max', 'value': 18650}, {'query': 'best earbuds 2023', 'value': 18450}, {'query': 'best headphones 2024', 'value': 16700}, {'query': 'jabra elite 75t', 'value': 15750}, {'query': 'sony wf-1000xm3', 'value': 12050}, {'query': 'skullcandy crusher evo', 'value': 11550}, {'query': 'best headphones for ps5', 'value': 11200}, {'query': 'best headphones for zoom meetings', 'value': 10500}, {'query': 'airpod pro', 'value': 9100}, {'query': 'apple airpods max', 'value': 8150}, {'query': 'bose noise cancelling headphones 700', 'value': 8050}, {'query': 'audiotechnica open ear headphones', 'value': 7550}, {'query': 'airpods pro', 'value': 7450}]}}]}]\n"
     ]
    }
   ],
   "source": [
    "print(response['tasks'])\n",
    "print(response['tasks'][0]['result'])"
   ]
  },
  {
   "cell_type": "code",
   "execution_count": 68,
   "metadata": {},
   "outputs": [
    {
     "name": "stdout",
     "output_type": "stream",
     "text": [
      "1\n",
      "1\n"
     ]
    },
    {
     "data": {
      "text/plain": [
       "{'top': [{'query': 'headphones wireless', 'value': 100},\n",
       "  {'query': 'best headphones wireless', 'value': 99},\n",
       "  {'query': 'best buy headphones', 'value': 65},\n",
       "  {'query': 'best buy', 'value': 64},\n",
       "  {'query': 'bluetooth headphones', 'value': 52},\n",
       "  {'query': 'best noise cancelling headphones', 'value': 51},\n",
       "  {'query': 'best bluetooth headphones', 'value': 50},\n",
       "  {'query': 'noise cancelling headphones', 'value': 50},\n",
       "  {'query': 'the best headphones', 'value': 49},\n",
       "  {'query': 'best earbuds', 'value': 37},\n",
       "  {'query': 'earbuds', 'value': 36},\n",
       "  {'query': 'over ear headphones', 'value': 35},\n",
       "  {'query': 'best over ear headphones', 'value': 35},\n",
       "  {'query': 'best beats headphones', 'value': 34},\n",
       "  {'query': 'beats', 'value': 34},\n",
       "  {'query': 'bose headphones', 'value': 32},\n",
       "  {'query': 'beats headphones', 'value': 32},\n",
       "  {'query': 'best bose headphones', 'value': 31},\n",
       "  {'query': 'bose', 'value': 31},\n",
       "  {'query': 'sony', 'value': 30},\n",
       "  {'query': 'best sony headphones', 'value': 30},\n",
       "  {'query': 'sony headphones', 'value': 30},\n",
       "  {'query': 'best gaming headphones', 'value': 27},\n",
       "  {'query': 'gaming headphones', 'value': 27},\n",
       "  {'query': 'apple headphones', 'value': 18}],\n",
       " 'rising': [{'query': 'best headphones 2022', 'value': 156350},\n",
       "  {'query': 'best headphones 2021', 'value': 115450},\n",
       "  {'query': 'best headphones 2023', 'value': 91800},\n",
       "  {'query': 'sony wh-1000xm4', 'value': 77600},\n",
       "  {'query': 'sony headphones wh-1000xm4', 'value': 76700},\n",
       "  {'query': 'airpod max', 'value': 33000},\n",
       "  {'query': 'sony wh-1000xm5', 'value': 32650},\n",
       "  {'query': 'sony xm4', 'value': 31650},\n",
       "  {'query': 'best headphones 2020', 'value': 26050},\n",
       "  {'query': 'best wireless headphones 2023', 'value': 25850},\n",
       "  {'query': 'sony xm5', 'value': 22500},\n",
       "  {'query': 'best noise cancelling headphones 2023', 'value': 19700},\n",
       "  {'query': 'airpods max', 'value': 18650},\n",
       "  {'query': 'best earbuds 2023', 'value': 18450},\n",
       "  {'query': 'best headphones 2024', 'value': 16700},\n",
       "  {'query': 'jabra elite 75t', 'value': 15750},\n",
       "  {'query': 'sony wf-1000xm3', 'value': 12050},\n",
       "  {'query': 'skullcandy crusher evo', 'value': 11550},\n",
       "  {'query': 'best headphones for ps5', 'value': 11200},\n",
       "  {'query': 'best headphones for zoom meetings', 'value': 10500},\n",
       "  {'query': 'airpod pro', 'value': 9100},\n",
       "  {'query': 'apple airpods max', 'value': 8150},\n",
       "  {'query': 'bose noise cancelling headphones 700', 'value': 8050},\n",
       "  {'query': 'audiotechnica open ear headphones', 'value': 7550},\n",
       "  {'query': 'airpods pro', 'value': 7450}]}"
      ]
     },
     "execution_count": 68,
     "metadata": {},
     "output_type": "execute_result"
    }
   ],
   "source": [
    "print(len(response['tasks'][0]['result']))\n",
    "print(len(response['tasks'][0]['result'][0]['items']))\n",
    "response['tasks'][0]['result'][0]['items'][0]['data']"
   ]
  },
  {
   "cell_type": "code",
   "execution_count": 92,
   "metadata": {},
   "outputs": [],
   "source": [
    "from datetime import  datetime, date, timedelta\n",
    "def data_for_seo_queries(keyword: str, date_to:str|bool= None, date_from:str|bool= None):\n",
    "    date_format= \"%Y-%m-%d\"\n",
    "    if not date_to:\n",
    "        date_to= date.today().__format__(date_format)\n",
    "    if not date_from:\n",
    "        one_year_ago= datetime.strptime(date_to, date_format)-timedelta(days=365)\n",
    "        date_from= one_year_ago.date().__format__(date_format)\n",
    "    error= None\n",
    "    queries= []\n",
    "    try:\n",
    "        post_data = dict()\n",
    "        post_data[len(post_data)] = dict(\n",
    "                            location_name=\"United States\",\n",
    "                            date_from=date_from,\n",
    "                            date_to=date_to,\n",
    "                            keywords=[\n",
    "                                keyword,\n",
    "                            ],\n",
    "                            item_types= [\n",
    "                                \"google_trends_queries_list\"\n",
    "                            ]\n",
    "                        )\n",
    "        response = client.post(\"/v3/keywords_data/google_trends/explore/live\", post_data)\n",
    "        if response['status_code']==20000:\n",
    "            query_items= response['tasks'][0]['result'][0]['items'][0]['data']\n",
    "            # top queries\n",
    "            top_queries= query_items.get('top')\n",
    "            if top_queries:\n",
    "                for tq in top_queries:\n",
    "                    queries.append(tq['query'])\n",
    "            # rising queries\n",
    "            rising_queries= query_items['rising']\n",
    "            if rising_queries:\n",
    "                for rq in rising_queries:\n",
    "                    queries.append(rq['query'])    \n",
    "    except Exception as e:\n",
    "        print(e)\n",
    "        error= e.__str__()\n",
    "    finally:\n",
    "        return {\n",
    "            \"error\": error,\n",
    "            \"queries\": queries\n",
    "        }"
   ]
  },
  {
   "cell_type": "code",
   "execution_count": 90,
   "metadata": {},
   "outputs": [
    {
     "data": {
      "text/plain": [
       "'2024-06-06'"
      ]
     },
     "execution_count": 90,
     "metadata": {},
     "output_type": "execute_result"
    }
   ],
   "source": [
    "from datetime import  date, timedelta\n",
    "date.today().__format__(\"%Y-%m-%d\")"
   ]
  },
  {
   "cell_type": "code",
   "execution_count": 91,
   "metadata": {},
   "outputs": [
    {
     "data": {
      "text/plain": [
       "'2023-06-07'"
      ]
     },
     "execution_count": 91,
     "metadata": {},
     "output_type": "execute_result"
    }
   ],
   "source": [
    "one_year_ago= datetime.strptime('2024-06-06', \"%Y-%m-%d\")-timedelta(days=365)\n",
    "one_year_ago.date().__format__(\"%Y-%m-%d\")"
   ]
  },
  {
   "cell_type": "code",
   "execution_count": 101,
   "metadata": {},
   "outputs": [
    {
     "data": {
      "text/plain": [
       "{'error': None,\n",
       " 'queries': ['wireless headphones',\n",
       "  'best headphones wireless',\n",
       "  'best buy',\n",
       "  'headphones best buy',\n",
       "  'bluetooth headphones',\n",
       "  'best bluetooth headphones',\n",
       "  'best noise cancelling headphones',\n",
       "  'noise cancelling headphones',\n",
       "  'the best headphones',\n",
       "  'earbuds',\n",
       "  'best earbuds',\n",
       "  'beats',\n",
       "  'beats headphones',\n",
       "  'best over ear headphones',\n",
       "  'best beats headphones',\n",
       "  'bose headphones',\n",
       "  'bose',\n",
       "  'best bose headphones',\n",
       "  'over ear headphones',\n",
       "  'sony headphones',\n",
       "  'best sony headphones',\n",
       "  'sony',\n",
       "  'gaming headphones',\n",
       "  'best gaming headphones',\n",
       "  'wireless earbuds',\n",
       "  'best headphones 2022',\n",
       "  'best headphones 2021',\n",
       "  'best headphones 2019',\n",
       "  'best headphones 2023',\n",
       "  'sony headphones wh-1000xm4',\n",
       "  'best wireless headphones 2019',\n",
       "  'airpods max',\n",
       "  'sony wh-1000xm3',\n",
       "  'sony wh-1000xm4',\n",
       "  'best headphones for ps5',\n",
       "  'best headphones 2024',\n",
       "  'sony wh-1000xm5',\n",
       "  'airpod pro',\n",
       "  'sony xm4',\n",
       "  'best headphones 2020',\n",
       "  'apple airpods max',\n",
       "  'best noise cancelling headphones 2019',\n",
       "  'shokz headphones',\n",
       "  'jabra elite 65t',\n",
       "  'airpods pro',\n",
       "  'best noise cancelling headphones 2023',\n",
       "  'airpod max',\n",
       "  'jabra elite 75t',\n",
       "  'bose noise cancelling headphones 700',\n",
       "  'skullcandy crusher evo']}"
      ]
     },
     "execution_count": 101,
     "metadata": {},
     "output_type": "execute_result"
    }
   ],
   "source": [
    "data_for_seo_queries(\"best headphones\", date_from=\"2018-01-01\")"
   ]
  },
  {
   "cell_type": "code",
   "execution_count": null,
   "metadata": {},
   "outputs": [],
   "source": []
  },
  {
   "cell_type": "code",
   "execution_count": null,
   "metadata": {},
   "outputs": [],
   "source": []
  },
  {
   "cell_type": "code",
   "execution_count": null,
   "metadata": {},
   "outputs": [],
   "source": []
  },
  {
   "cell_type": "code",
   "execution_count": null,
   "metadata": {},
   "outputs": [],
   "source": []
  },
  {
   "cell_type": "code",
   "execution_count": 30,
   "metadata": {},
   "outputs": [
    {
     "data": {
      "text/plain": [
       "20000"
      ]
     },
     "execution_count": 30,
     "metadata": {},
     "output_type": "execute_result"
    }
   ],
   "source": [
    "post_data = dict()\n",
    "# simple way to set a task\n",
    "post_data[len(post_data)] = dict(\n",
    "    location_name=\"United States\",\n",
    "    date_from=\"2019-01-01\",\n",
    "    date_to=\"2020-01-01\",\n",
    "    keywords=[\n",
    "        \"seo api\"\n",
    "    ]\n",
    ")\n",
    "# after a task is completed, we will send a GET request to the address you specify\n",
    "# instead of $id and $post_id, you will receive actual values that are relevant to this task\n",
    "post_data[len(post_data)] = dict(\n",
    "    location_name=\"United States\",\n",
    "    date_from=\"2019-01-01\",\n",
    "    date_to=\"2020-01-01\",\n",
    "    type=\"youtube\",\n",
    "    category_code=3,\n",
    "    keywords=[\n",
    "        \"seo api\",\n",
    "        \"rank api\"\n",
    "    ],\n",
    "    tag=\"some_string_123\",\n",
    "    pingback_url=\"https://your-server.com/pingscript?id=$id&post_id=$post_id\"\n",
    ")\n",
    "# after a task is completed, we will send a GET request to the address you specify\n",
    "# instead of $id and $post_id, you will receive actual values that are relevant to this task\n",
    "post_data[len(post_data)] = dict(\n",
    "    location_name=\"United States\",\n",
    "    date_from=\"2019-01-01\",\n",
    "    date_to=\"2020-01-01\",\n",
    "    type=\"youtube\",\n",
    "    category_code=3,\n",
    "    keywords=[\n",
    "        \"seo api\",\n",
    "        \"rank api\"\n",
    "    ],\n",
    "    postback_url=\"https://your-server.com/postbackscript\"\n",
    ")\n",
    "# POST /v3/keywords_data/google_trends/explore/task_post\n",
    "response = client.post(\"/v3/keywords_data/google_trends/explore/task_post\", post_data)\n",
    "# you can find the full list of the response codes here https://docs.dataforseo.com/v3/appendix/errors\n",
    "response['status_code']"
   ]
  },
  {
   "cell_type": "code",
   "execution_count": 31,
   "metadata": {},
   "outputs": [],
   "source": [
    "with open(\"research/trends_api_results_for_seo_api.json\", \"w\") as f:\n",
    "    json.dump(response, f)"
   ]
  },
  {
   "cell_type": "code",
   "execution_count": null,
   "metadata": {},
   "outputs": [],
   "source": []
  }
 ],
 "metadata": {
  "kernelspec": {
   "display_name": "venv",
   "language": "python",
   "name": "python3"
  },
  "language_info": {
   "codemirror_mode": {
    "name": "ipython",
    "version": 3
   },
   "file_extension": ".py",
   "mimetype": "text/x-python",
   "name": "python",
   "nbconvert_exporter": "python",
   "pygments_lexer": "ipython3",
   "version": "3.11.9"
  }
 },
 "nbformat": 4,
 "nbformat_minor": 2
}
